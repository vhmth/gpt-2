{
 "cells": [
  {
   "cell_type": "markdown",
   "metadata": {},
   "source": [
    "# A training log"
   ]
  },
  {
   "cell_type": "markdown",
   "metadata": {},
   "source": [
    "- `step 1000`: train loss 5.9037, `val loss 5.8993`\n",
    "\n",
    "![At 1000 epochs](./training-log/1000-epochs.png \"1000 Epochs\")"
   ]
  },
  {
   "cell_type": "markdown",
   "metadata": {},
   "source": [
    "- `step 1500`: train loss 5.6095, `val loss 5.5964`\n",
    "- interestingly, more gibberish. will run more epochs before checking again.\n",
    "\n",
    "![At 1500 epochs](./training-log/1500-epochs.png \"1500 Epochs\")"
   ]
  },
  {
   "cell_type": "markdown",
   "metadata": {},
   "source": []
  }
 ],
 "metadata": {
  "language_info": {
   "name": "python"
  }
 },
 "nbformat": 4,
 "nbformat_minor": 2
}
