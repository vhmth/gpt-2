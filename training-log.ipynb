{
 "cells": [
  {
   "cell_type": "markdown",
   "metadata": {},
   "source": [
    "# A training log"
   ]
  },
  {
   "cell_type": "markdown",
   "metadata": {},
   "source": [
    "- `step 1000`: train loss 5.9037, `val loss 5.8993`\n",
    "\n",
    "![At 1000 epochs](./training-log/1000-epochs.png \"1000 Epochs\")"
   ]
  },
  {
   "cell_type": "markdown",
   "metadata": {},
   "source": [
    "- `step 1500`: train loss 5.6095, `val loss 5.5964`\n",
    "- interestingly, more gibberish. will run more epochs before checking again.\n",
    "\n",
    "![At 1500 epochs](./training-log/1500-epochs.png \"1500 Epochs\")"
   ]
  },
  {
   "cell_type": "markdown",
   "metadata": {},
   "source": [
    "- `step 3000`: train loss 5.0643, `val loss 5.0579`\n",
    "- seems very \"news\"-y?\n",
    "\n",
    "![At 3000 epochs](./training-log/3000-epochs.png \"3000 Epochs\")"
   ]
  },
  {
   "cell_type": "markdown",
   "metadata": {},
   "source": [
    "- `step 5500`: train loss 4.6092, `val loss 4.6042`\n",
    "- output is looking more coherent, but still very \"news\"-y\n",
    "- let's wait until 10k epochs and then see if we need to bump up the learning rate\n",
    "\n",
    "![At 5500 epochs](./training-log/5500-epochs.png \"5500 Epochs\")"
   ]
  },
  {
   "cell_type": "markdown",
   "metadata": {},
   "source": []
  }
 ],
 "metadata": {
  "language_info": {
   "name": "python"
  }
 },
 "nbformat": 4,
 "nbformat_minor": 2
}
